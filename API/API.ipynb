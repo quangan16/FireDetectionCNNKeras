{
 "cells": [
  {
   "cell_type": "code",
   "execution_count": 1,
   "metadata": {},
   "outputs": [
    {
     "name": "stdout",
     "output_type": "stream",
     "text": [
      " * Serving Flask app '__main__'\n",
      " * Debug mode: off\n"
     ]
    },
    {
     "name": "stderr",
     "output_type": "stream",
     "text": [
      "WARNING: This is a development server. Do not use it in a production deployment. Use a production WSGI server instead.\n",
      " * Running on http://127.0.0.1:5000\n",
      "Press CTRL+C to quit\n",
      "127.0.0.1 - - [08/Nov/2022 00:12:21] \"GET / HTTP/1.1\" 200 -\n",
      "127.0.0.1 - - [08/Nov/2022 00:12:21] \"GET /static/upload.js HTTP/1.1\" 304 -\n",
      "127.0.0.1 - - [08/Nov/2022 00:12:21] \"GET / HTTP/1.1\" 200 -\n"
     ]
    },
    {
     "name": "stdout",
     "output_type": "stream",
     "text": [
      "Found 1 images belonging to 1 classes.\n",
      "1/1 [==============================] - 0s 181ms/step\n"
     ]
    },
    {
     "name": "stderr",
     "output_type": "stream",
     "text": [
      "127.0.0.1 - - [08/Nov/2022 00:12:26] \"POST /uploader HTTP/1.1\" 200 -\n"
     ]
    },
    {
     "name": "stdout",
     "output_type": "stream",
     "text": [
      "[[9.780675e-08]]\n",
      "Found 2 images belonging to 1 classes.\n",
      "2/2 [==============================] - 0s 14ms/step\n"
     ]
    },
    {
     "name": "stderr",
     "output_type": "stream",
     "text": [
      "[2022-11-08 00:12:43,535] ERROR in app: Exception on /uploader [POST]\n",
      "Traceback (most recent call last):\n",
      "  File \"c:\\Users\\nqan1\\AppData\\Local\\Programs\\Python\\Python310\\lib\\site-packages\\flask\\app.py\", line 2525, in wsgi_app\n",
      "    response = self.full_dispatch_request()\n",
      "  File \"c:\\Users\\nqan1\\AppData\\Local\\Programs\\Python\\Python310\\lib\\site-packages\\flask\\app.py\", line 1822, in full_dispatch_request\n",
      "    rv = self.handle_user_exception(e)\n",
      "  File \"c:\\Users\\nqan1\\AppData\\Local\\Programs\\Python\\Python310\\lib\\site-packages\\flask\\app.py\", line 1820, in full_dispatch_request\n",
      "    rv = self.dispatch_request()\n",
      "  File \"c:\\Users\\nqan1\\AppData\\Local\\Programs\\Python\\Python310\\lib\\site-packages\\flask\\app.py\", line 1796, in dispatch_request\n",
      "    return self.ensure_sync(self.view_functions[rule.endpoint])(**view_args)\n",
      "  File \"C:\\Users\\nqan1\\AppData\\Local\\Temp\\ipykernel_22520\\4074664517.py\", line 41, in upload_file\n",
      "    val = finds()\n",
      "  File \"C:\\Users\\nqan1\\AppData\\Local\\Temp\\ipykernel_22520\\4074664517.py\", line 29, in finds\n",
      "    if(pred<=0.5):\n",
      "ValueError: The truth value of an array with more than one element is ambiguous. Use a.any() or a.all()\n",
      "127.0.0.1 - - [08/Nov/2022 00:12:43] \"POST /uploader HTTP/1.1\" 500 -\n"
     ]
    },
    {
     "name": "stdout",
     "output_type": "stream",
     "text": [
      "[[9.9979794e-01]\n",
      " [9.7806748e-08]]\n"
     ]
    }
   ],
   "source": [
    "from flask import Flask, render_template, request\n",
    "\n",
    "from werkzeug.utils import secure_filename\n",
    "from werkzeug.datastructures import  FileStorage\n",
    "from keras.preprocessing.image import ImageDataGenerator\n",
    "import tensorflow as tf\n",
    "import numpy as np\n",
    "import os \n",
    "  \n",
    "\n",
    "  \n",
    "model = tf.keras.models.load_model('model/fire_and_nonfire.h5')\n",
    "app = Flask(__name__)\n",
    "  \n",
    "app.config['UPLOAD_FOLDER'] = 'uploaded/test_image/'\n",
    "  \n",
    "@app.route('/')\n",
    "def upload_f():\n",
    "    return render_template('upload.html')\n",
    "  \n",
    "def finds():\n",
    "    test_datagen = ImageDataGenerator(rescale = 1./255)\n",
    "    vals = ['FireAlert', 'NoFire'] \n",
    "    test_dir = 'uploaded'\n",
    "    test_generator = test_datagen.flow_from_directory(test_dir, target_size=(150,150), batch_size=1, class_mode='binary')\n",
    "  \n",
    "    pred = model.predict(test_generator)\n",
    "    print(pred)\n",
    "    if(pred<=0.5):\n",
    "        return 'FireAlert' \n",
    "    else:\n",
    "        return 'NoFire' \n",
    "    \n",
    "   \n",
    "  \n",
    "@app.route('/uploader', methods = ['GET', 'POST'])\n",
    "def upload_file():\n",
    "    if request.method == 'POST':\n",
    "        f = request.files['file']\n",
    "        f.save(os.path.join(app.config['UPLOAD_FOLDER'], secure_filename(f.filename)))\n",
    "        val = finds()\n",
    "        return render_template('predict.html', ss = val)\n",
    "  \n",
    "if __name__ == '__main__':\n",
    "    app.run()"
   ]
  }
 ],
 "metadata": {
  "kernelspec": {
   "display_name": "Python 3.10.8 64-bit",
   "language": "python",
   "name": "python3"
  },
  "language_info": {
   "codemirror_mode": {
    "name": "ipython",
    "version": 3
   },
   "file_extension": ".py",
   "mimetype": "text/x-python",
   "name": "python",
   "nbconvert_exporter": "python",
   "pygments_lexer": "ipython3",
   "version": "3.10.8"
  },
  "orig_nbformat": 4,
  "vscode": {
   "interpreter": {
    "hash": "5acba3d33a1c1b9502ed148b658bbb15bb4421701c6988e1bdc147f9d8f64c2f"
   }
  }
 },
 "nbformat": 4,
 "nbformat_minor": 2
}
