{
 "cells": [
  {
   "cell_type": "code",
   "execution_count": 8,
   "metadata": {},
   "outputs": [],
   "source": [
    "#pre-process fire training\n",
    "import os\n",
    "import cv2\n",
    "import shutil\n",
    "PATH = \"C:/Users/nqan1/OneDrive/Documents/Coding_2022/Coding_Project/XuLyAnh/FireDetectionWeb2/Raw_Data/fire_dataset/\"\n",
    "SAVE_PATH = \"C:/Users/nqan1/OneDrive/Documents/Coding_2022/Coding_Project/XuLyAnh/FireDetectionWeb2/Pre_Processing_Data/Output/fire_Detection_Dataset/training/fire/\"\n",
    "\n",
    "\n",
    "fnames = ['fire.{}.png'.format(i) for i in range(1,260)]\n",
    "\n",
    "for fname in fnames:\n",
    "    src = os.path.join(PATH, fname)\n",
    "    img = cv2.imread(src, 1)\n",
    "   \n",
    "    img_yuv = cv2.cvtColor(img, cv2.COLOR_BGR2YUV)\n",
    "    img_yuv[:,:,0] = cv2.equalizeHist(img_yuv[:,:,0])\n",
    "    img_output = cv2.cvtColor(img_yuv, cv2.COLOR_YUV2BGR)\n",
    "    cv2.imwrite(SAVE_PATH + \"pre-\"+fname, img_output)\n",
    "\n"
   ]
  },
  {
   "cell_type": "code",
   "execution_count": 9,
   "metadata": {},
   "outputs": [],
   "source": [
    "#pre-process non_fire training\n",
    "import os\n",
    "import cv2\n",
    "import shutil\n",
    "PATH = \"C:/Users/nqan1/OneDrive/Documents/Coding_2022/Coding_Project/XuLyAnh/FireDetectionWeb/Raw_Data/fire_dataset/\"\n",
    "SAVE_PATH = \"C:/Users/nqan1/OneDrive/Documents/Coding_2022/Coding_Project/XuLyAnh/FireDetectionWeb2/Pre_Processing_Data/Output/fire_Detection_Dataset/training/non_fire/\"\n",
    "\n",
    "\n",
    "fnames = ['non_fire.{}.png'.format(i) for i in range(1,81)]\n",
    "for fname in fnames:\n",
    "    src = os.path.join(PATH, fname)\n",
    "    img = cv2.imread(src, 1)\n",
    "    img_yuv = cv2.cvtColor(img, cv2.COLOR_BGR2YUV)\n",
    "    img_yuv[:,:,0] = cv2.equalizeHist(img_yuv[:,:,0])\n",
    "    img_output = cv2.cvtColor(img_yuv, cv2.COLOR_YUV2BGR)\n",
    "    cv2.imwrite(SAVE_PATH + \"pre-\"+fname, img_output)"
   ]
  },
  {
   "cell_type": "code",
   "execution_count": 14,
   "metadata": {},
   "outputs": [],
   "source": [
    "#pre-process fire validation\n",
    "import os\n",
    "import cv2\n",
    "import shutil\n",
    "PATH = \"C:/Users/nqan1/OneDrive/Documents/Coding_2022/Coding_Project/XuLyAnh/FireDetectionWeb/Raw_Data/fire_dataset/\"\n",
    "SAVE_PATH = \"C:/Users/nqan1/OneDrive/Documents/Coding_2022/Coding_Project/XuLyAnh/FireDetectionWeb2/Pre_Processing_Data/Output/fire_Detection_Dataset/validation/fire/\"\n",
    "\n",
    "\n",
    "fnames = ['fire.{}.png'.format(i) for i in range(260, 520)]\n",
    "for fname in fnames:\n",
    "    src = os.path.join(PATH, fname)\n",
    "    img = cv2.imread(src, 1)\n",
    "    img_yuv = cv2.cvtColor(img, cv2.COLOR_BGR2YUV)\n",
    "    img_yuv[:,:,0] = cv2.equalizeHist(img_yuv[:,:,0])\n",
    "    img_output = cv2.cvtColor(img_yuv, cv2.COLOR_YUV2BGR)\n",
    "    cv2.imwrite(SAVE_PATH + \"pre-\"+fname, img_output)"
   ]
  },
  {
   "cell_type": "code",
   "execution_count": 15,
   "metadata": {},
   "outputs": [],
   "source": [
    "#pre-process non-fire validation\n",
    "import os\n",
    "import cv2\n",
    "import shutil\n",
    "PATH = \"C:/Users/nqan1/OneDrive/Documents/Coding_2022/Coding_Project/XuLyAnh/FireDetectionWeb/Raw_Data/fire_dataset/\"\n",
    "SAVE_PATH = \"C:/Users/nqan1/OneDrive/Documents/Coding_2022/Coding_Project/XuLyAnh/FireDetectionWeb2/Pre_Processing_Data/Output/fire_Detection_Dataset/validation/non_fire/\"\n",
    "\n",
    "\n",
    "fnames = ['non_fire.{}.png'.format(i) for i in range(81, 162)]\n",
    "for fname in fnames:\n",
    "    src = os.path.join(PATH, fname)\n",
    "    img = cv2.imread(src, 1)\n",
    "    img_yuv = cv2.cvtColor(img, cv2.COLOR_BGR2YUV)\n",
    "    img_yuv[:,:,0] = cv2.equalizeHist(img_yuv[:,:,0])\n",
    "    img_output = cv2.cvtColor(img_yuv, cv2.COLOR_YUV2BGR)\n",
    "    cv2.imwrite(SAVE_PATH + \"pre-\"+fname, img_output)"
   ]
  }
 ],
 "metadata": {
  "kernelspec": {
   "display_name": "Python 3.10.8 64-bit",
   "language": "python",
   "name": "python3"
  },
  "language_info": {
   "codemirror_mode": {
    "name": "ipython",
    "version": 3
   },
   "file_extension": ".py",
   "mimetype": "text/x-python",
   "name": "python",
   "nbconvert_exporter": "python",
   "pygments_lexer": "ipython3",
   "version": "3.10.8"
  },
  "orig_nbformat": 4,
  "vscode": {
   "interpreter": {
    "hash": "5acba3d33a1c1b9502ed148b658bbb15bb4421701c6988e1bdc147f9d8f64c2f"
   }
  }
 },
 "nbformat": 4,
 "nbformat_minor": 2
}
