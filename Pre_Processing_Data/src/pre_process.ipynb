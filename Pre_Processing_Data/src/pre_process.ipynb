{
 "cells": [
  {
   "cell_type": "code",
   "execution_count": 25,
   "metadata": {},
   "outputs": [],
   "source": [
    "#pre-process fire training\n",
    "import os\n",
    "import cv2\n",
    "import shutil\n",
    "PATH = \"C:/Users/nqan1/OneDrive/Documents/Coding_2022/Coding_Project/XuLyAnh/FireDetectionWeb/Raw_Data/fire_dataset/\"\n",
    "SAVE_PATH = \"C:/Users/nqan1/OneDrive/Documents/Coding_2022/Coding_Project/XuLyAnh/FireDetectionWeb/Pre_Processing_Data/Output/fire_Detection_Dataset/training/fire/\"\n",
    "\n",
    "\n",
    "fnames = ['fire.{}.png'.format(i) for i in range(1,260)]\n",
    "\n",
    "for fname in fnames:\n",
    "    src = os.path.join(PATH, fname)\n",
    "    img = cv2.imread(src, 1)\n",
    "    blur = cv2.blur(img, (3, 3), 0)\n",
    "    median = cv2.medianBlur(img,5)\n",
    "    cv2.imwrite(SAVE_PATH + \"pre-\"+fname, median)\n",
    "\n"
   ]
  },
  {
   "cell_type": "code",
   "execution_count": 27,
   "metadata": {},
   "outputs": [],
   "source": [
    "#pre-process non_fire training\n",
    "import os\n",
    "import cv2\n",
    "import shutil\n",
    "PATH = \"C:/Users/nqan1/OneDrive/Documents/Coding_2022/Coding_Project/XuLyAnh/FireDetectionWeb/Raw_Data/fire_dataset/\"\n",
    "SAVE_PATH = \"C:/Users/nqan1/OneDrive/Documents/Coding_2022/Coding_Project/XuLyAnh/FireDetectionWeb/Pre_Processing_Data/Output/fire_Detection_Dataset/training/non_fire/\"\n",
    "\n",
    "\n",
    "fnames = ['non_fire.{}.png'.format(i) for i in range(1,81)]\n",
    "for fname in fnames:\n",
    "    src = os.path.join(PATH, fname)\n",
    "    img = cv2.imread(src, 1)\n",
    "    blur = cv2.blur(img, (3, 3), 0)\n",
    "    median = cv2.medianBlur(img,5)\n",
    "    cv2.imwrite(SAVE_PATH + \"pre-\"+fname, median)"
   ]
  },
  {
   "cell_type": "code",
   "execution_count": 28,
   "metadata": {},
   "outputs": [],
   "source": [
    "#pre-process fire validation\n",
    "import os\n",
    "import cv2\n",
    "import shutil\n",
    "PATH = \"C:/Users/nqan1/OneDrive/Documents/Coding_2022/Coding_Project/XuLyAnh/FireDetectionWeb/Raw_Data/fire_dataset/\"\n",
    "SAVE_PATH = \"C:/Users/nqan1/OneDrive/Documents/Coding_2022/Coding_Project/XuLyAnh/FireDetectionWeb/Pre_Processing_Data/Output/fire_Detection_Dataset/validation/fire/\"\n",
    "\n",
    "\n",
    "fnames = ['fire.{}.png'.format(i) for i in range(260, 520)]\n",
    "for fname in fnames:\n",
    "    src = os.path.join(PATH, fname)\n",
    "    img = cv2.imread(src, 1)\n",
    "    blur = cv2.blur(img, (3, 3), 0)\n",
    "    median = cv2.medianBlur(img,5)\n",
    "    cv2.imwrite(SAVE_PATH + \"pre-\"+fname, median)"
   ]
  },
  {
   "cell_type": "code",
   "execution_count": 29,
   "metadata": {},
   "outputs": [],
   "source": [
    "#pre-process non-fire validation\n",
    "import os\n",
    "import cv2\n",
    "import shutil\n",
    "PATH = \"C:/Users/nqan1/OneDrive/Documents/Coding_2022/Coding_Project/XuLyAnh/FireDetectionWeb/Raw_Data/fire_dataset/\"\n",
    "SAVE_PATH = \"C:/Users/nqan1/OneDrive/Documents/Coding_2022/Coding_Project/XuLyAnh/FireDetectionWeb/Pre_Processing_Data/Output/fire_Detection_Dataset/validation/fire/\"\n",
    "\n",
    "\n",
    "fnames = ['fire.{}.png'.format(i) for i in range(81, 162)]\n",
    "for fname in fnames:\n",
    "    src = os.path.join(PATH, fname)\n",
    "    img = cv2.imread(src, 1)\n",
    "    blur = cv2.blur(img, (3, 3), 0)\n",
    "    median = cv2.medianBlur(img,5)\n",
    "    cv2.imwrite(SAVE_PATH + \"pre-\"+fname, median)"
   ]
  }
 ],
 "metadata": {
  "kernelspec": {
   "display_name": "Python 3.10.8 64-bit",
   "language": "python",
   "name": "python3"
  },
  "language_info": {
   "codemirror_mode": {
    "name": "ipython",
    "version": 3
   },
   "file_extension": ".py",
   "mimetype": "text/x-python",
   "name": "python",
   "nbconvert_exporter": "python",
   "pygments_lexer": "ipython3",
   "version": "3.10.8"
  },
  "orig_nbformat": 4,
  "vscode": {
   "interpreter": {
    "hash": "5acba3d33a1c1b9502ed148b658bbb15bb4421701c6988e1bdc147f9d8f64c2f"
   }
  }
 },
 "nbformat": 4,
 "nbformat_minor": 2
}
